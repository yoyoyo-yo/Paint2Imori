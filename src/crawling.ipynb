{
 "cells": [
  {
   "cell_type": "code",
   "execution_count": 6,
   "metadata": {},
   "outputs": [
    {
     "name": "stdout",
     "output_type": "stream",
     "text": [
      "タイガーサラマンダー, all:403 , train:241, val:80, test:82\n",
      "ファイアーサラマンダー, all:387 , train:232, val:77, test:78\n",
      "ブチイモリ, all:417 , train:250, val:83, test:84\n",
      "レッドサラマンダー イモリ, all:402 , train:241, val:80, test:81\n"
     ]
    }
   ],
   "source": [
    "import os\n",
    "import logging\n",
    "import shutil\n",
    "import requests\n",
    "import random\n",
    "import shutil\n",
    "\n",
    "from requests.packages.urllib3.exceptions import InsecureRequestWarning\n",
    "from icrawler.builtin import BingImageCrawler\n",
    "\n",
    "random.seed(42)\n",
    "\n",
    "requests.packages.urllib3.disable_warnings(InsecureRequestWarning)\n",
    "\n",
    "train_data_path = \"train_images\"\n",
    "val_data_path = \"val_images\"\n",
    "test_data_path = \"test_images\"\n",
    "# cls_paths = {\"アカハライモリ\" : \"akahara_imori\", \"シリケンイモリ\" : \"shiriken_imori\", \"イボイモリ\" : \"ibo_imori\", \n",
    "#              \"マダライモリ\" : \"madara_imori\", \"マーブルサラマンダー\" : \"marble_salamander\", \"レッドサラマンダー\" : \"red_salamander\", \n",
    "#              \"ミナミイボイモリ\" : \"minamiibo_imori\", \"ミナミクシイモリ\" : \"minamikushi_imori\", \"イベリアトゲイモリ\" : \"iberiatoge_imori\",\n",
    "#              \"ウーパールーパー\" : \"mexico_salamander\", \"ホライモリ\" : \"hora_imori\", \"アシナシイモリ\" : \"ashinashi_imori\"}\n",
    "\n",
    "cls_paths = {\"タイガーサラマンダー\" : \"tiger_salamander\", \"ファイアーサラマンダー\" : \"fire_salamander\",\n",
    "            \"ブチイモリ\" : \"buchi_imori\", \"レッドサラマンダー イモリ\" : \"red_salamander\"\n",
    "            }\n",
    "\n",
    "splits = [6, 2, 2] # train, val, test\n",
    "\n",
    "splits_sum = float(sum(splits))\n",
    "splits_norm = [x / splits_sum for x in splits]\n",
    "\n",
    "for k, v in cls_paths.items():\n",
    "\n",
    "    store_train_path = f\"imori/{train_data_path}/{v}\"\n",
    "    store_val_path = f\"imori/{val_data_path}/{v}\"\n",
    "    store_test_path = f\"imori/{test_data_path}/{v}\"\n",
    "\n",
    "    if os.path.exists(store_train_path):\n",
    "        shutil.rmtree(store_train_path)\n",
    "    if os.path.exists(store_val_path):\n",
    "        shutil.rmtree(store_val_path)\n",
    "    if os.path.exists(store_test_path):\n",
    "        shutil.rmtree(store_test_path)\n",
    "\n",
    "    os.makedirs(store_train_path, exist_ok=True)\n",
    "    os.makedirs(store_val_path, exist_ok=True)\n",
    "    os.makedirs(store_test_path, exist_ok=True)\n",
    "\n",
    "    crawler = BingImageCrawler(storage={'root_dir': store_train_path}, parser_threads=4, downloader_threads=4, log_level=logging.CRITICAL)\n",
    "    crawler.session.verify = False\n",
    "    crawler.crawl(keyword=k, max_num=600, min_size=(100, 100), max_size=None, file_idx_offset=0)\n",
    "\n",
    "    train_imgs = os.listdir(store_train_path)\n",
    "    random.shuffle(train_imgs)\n",
    "\n",
    "    train_n = int(len(train_imgs) * splits_norm[0])\n",
    "    val_n = int(len(train_imgs) * splits_norm[1])\n",
    "    test_n = len(train_imgs) - train_n - val_n\n",
    "\n",
    "    val_imgs = train_imgs[train_n : train_n + val_n]\n",
    "    test_imgs = train_imgs[-test_n:]\n",
    "\n",
    "#     for p in val_imgs:\n",
    "#         shutil.move(f\"{store_train_path}/{p}\", f\"{store_val_path}\")\n",
    "\n",
    "#     for p in test_imgs:\n",
    "#         shutil.move(f\"{store_train_path}/{p}\", f\"{store_test_path}\")\n",
    "\n",
    "    print(f\"{k}, all:{len(train_imgs)} , train:{train_n}, val:{val_n}, test:{test_n}\")\n"
   ]
  },
  {
   "cell_type": "code",
   "execution_count": 11,
   "metadata": {},
   "outputs": [
    {
     "name": "stdout",
     "output_type": "stream",
     "text": [
      "akahara_imori >> 368\n",
      "minamikushi_imori >> 133\n",
      "ibo_imori >> 192\n",
      "hora_imori >> 81\n",
      "Other >> 314\n",
      "fire_salamander >> 250\n",
      "minamiibo_imori >> 238\n",
      "buchi_imori >> 72\n",
      "marble_salamander >> 138\n",
      "shiriken_imori >> 272\n",
      "tiger_salamander >> 363\n",
      "iberiatoge_imori >> 279\n",
      "mexico_salamander >> 309\n",
      "madara_imori >> 301\n",
      "ashinashi_imori >> 249\n"
     ]
    }
   ],
   "source": [
    "for d in os.listdir(\"imori/train_images\"):\n",
    "    if d == \".DS_Store\":\n",
    "        continue\n",
    "    c = len(os.listdir(f\"imori/train_images/{d}\"))\n",
    "    print(f\"{d} >> {c}\")"
   ]
  },
  {
   "cell_type": "code",
   "execution_count": null,
   "metadata": {},
   "outputs": [],
   "source": []
  }
 ],
 "metadata": {
  "kernelspec": {
   "display_name": "Python 3",
   "language": "python",
   "name": "python3"
  },
  "language_info": {
   "codemirror_mode": {
    "name": "ipython",
    "version": 3
   },
   "file_extension": ".py",
   "mimetype": "text/x-python",
   "name": "python",
   "nbconvert_exporter": "python",
   "pygments_lexer": "ipython3",
   "version": "3.7.3"
  },
  "toc": {
   "base_numbering": 1,
   "nav_menu": {},
   "number_sections": true,
   "sideBar": true,
   "skip_h1_title": false,
   "title_cell": "Table of Contents",
   "title_sidebar": "Contents",
   "toc_cell": false,
   "toc_position": {},
   "toc_section_display": true,
   "toc_window_display": false
  }
 },
 "nbformat": 4,
 "nbformat_minor": 2
}
